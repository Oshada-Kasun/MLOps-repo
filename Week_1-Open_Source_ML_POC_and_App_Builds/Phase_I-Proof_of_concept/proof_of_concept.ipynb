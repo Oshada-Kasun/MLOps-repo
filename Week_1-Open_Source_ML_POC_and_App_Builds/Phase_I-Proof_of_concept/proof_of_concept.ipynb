{
 "cells": [
  {
   "cell_type": "markdown",
   "metadata": {},
   "source": [
    "<p align = \"center\" draggable=”false” ><img src=\"https://user-images.githubusercontent.com/37101144/161836199-fdb0219d-0361-4988-bf26-48b0fad160a3.png\"\n",
    "     width=\"200px\"\n",
    "     height=\"auto\"/>\n",
    "</p>\n",
    "\n",
    "\n",
    "\n",
    "# <h1 align=\"center\" id=\"heading\">Phase I - Proof of Concept</h1>\n",
    "\n",
    "\n",
    "\n",
    "## ☑️ Objectives\n",
    "At the end of this session, you will have a brief understanding of how to:\n",
    "- [ ] Find and run pre-trained models (Phase I)\n",
    "- [ ] Evaluate results from pre-trained models (Phase I)\n",
    "- [ ] Run a pre-trained model using real Reddit data (Phase I)\n",
    "\n",
    "\n",
    "## 🛠️ Pre-Assignment\n",
    "1. Create a virtual environment with 🐍 conda : `conda env create -f environment.yml`\n",
    "\n",
    "2. Activate your conda virtual environment: `conda activate tsla_bot`\n",
    "\n",
    "3. Create a .env file in the root directory and add the following variables:\n",
    "4. \n",
    "   `STOCK_API_KEY` : API key from [twelvedata](https://twelvedata.com/pricing)\n",
    "\n",
    "   `REDDIT_API_CLIENT_ID` : client ID of your reddit app\n",
    "   \n",
    "   `REDDIT_API_CLIENT_SECRET`: client secret of your reddit app\n",
    "   \n",
    "   Follow this tutorial to generate your own Reddit credentials:\n",
    "   <https://www.jcchouinard.com/get-reddit-api-credentials-with-praw/>\n",
    "\n",
    "4. Continue in this notebook\n",
    "\n",
    "\n",
    "\n",
    "## Background\n"
   ]
  },
  {
   "cell_type": "markdown",
   "metadata": {},
   "source": [
    "After the meeting with your boss, and reviewing your [notes](https://www.notion.so/Analyzing-Market-Sentiment-Phase-I-II-and-II-End-to-End-MLOps-with-Open-Source-Tools-dc4b846108b44f6bb2962d550368560c#54cc350bc95041ee873dabde36930af1) 📓, you're ready to get going on a Proof of Concept (POC)\n",
    "\n",
    "A POC tests the validity of your hypothesis. It's a way to prove that your idea, task, app, or whatever else works!\n",
    "\n",
    "There's no time to waste - you've got an idea - it's time to get testing it out! 🏁"
   ]
  },
  {
   "cell_type": "markdown",
   "metadata": {},
   "source": [
    "### Step 1: Initial Imports and Variable Setting 📈\n",
    "\n",
    "First things first: Let's set some variables that will help us going forward.\n",
    "\n",
    "Though your boss suggested `\"TSLA\"`, you can use any active stock-symbol and subreddit!\n",
    "\n",
    "**IMPORTANT**: Make sure you verify that your selected subreddit exists by navigating to the generated link after you run the following cell"
   ]
  },
  {
   "cell_type": "code",
   "execution_count": 6,
   "metadata": {},
   "outputs": [
    {
     "name": "stdout",
     "output_type": "stream",
     "text": [
      "reddit.com/r/teslainvestorsclub\n"
     ]
    }
   ],
   "source": [
    "from datetime import datetime, timedelta\n",
    "\n",
    "### START CODE HERE\n",
    "\n",
    "# Stock data to grab ex. \"TSLA\"\n",
    "symbol = \"TSLA\"\n",
    "\n",
    "# subreddit to check\n",
    "#subreddit = \"stocks\"\n",
    "subreddit = \"teslainvestorsclub\"\n",
    "\n",
    "# Time interval granularity\n",
    "# valid choices are \"1week\", \"1month\", \"1day\"\n",
    "interval = \"1month\"\n",
    "\n",
    "# set the beginning and end of the time range you'd like to analyze\n",
    "# ensure you use the format \"YYYY-MM-DD\"\n",
    "start_date = \"2022-01-01\"\n",
    "end_date =  \"2022-06-30\"\n",
    "\n",
    "### END CODE HERE\n",
    "\n",
    "start_date_dt = datetime.strptime(start_date, '%Y-%m-%d')\n",
    "end_date_dt = datetime.strptime(end_date, '%Y-%m-%d')\n",
    "\n",
    "print(f'reddit.com/r/{subreddit}')"
   ]
  },
  {
   "cell_type": "markdown",
   "metadata": {},
   "source": [
    "In order to make sure we can import our `BotUtils.py`, we have to ensure we're running from the `TSLASentimentAnalyzer` folder. To do this, we can `cd` into that directory!"
   ]
  },
  {
   "cell_type": "code",
   "execution_count": 2,
   "metadata": {},
   "outputs": [
    {
     "name": "stdout",
     "output_type": "stream",
     "text": [
      "/Users/oshadakasun/Tech/FourthBrain/MLOps Intro/code/MLOps-repo/Week_1-Open_Source_ML_POC_and_App_Builds/Phase_I-Proof_of_concept/TSLASentimentAnalyzer\n"
     ]
    }
   ],
   "source": [
    "cd TSLASentimentAnalyzer"
   ]
  },
  {
   "cell_type": "markdown",
   "metadata": {},
   "source": [
    "### Step 2: Set Environment Variables ⛰️\n",
    "\n",
    "Use the information you created in the instructions of the `README.md` to fill in the values below!"
   ]
  },
  {
   "cell_type": "code",
   "execution_count": 3,
   "metadata": {},
   "outputs": [
    {
     "name": "stdout",
     "output_type": "stream",
     "text": [
      "O1x7LQC_-FhRdauxcspt4A\n"
     ]
    }
   ],
   "source": [
    "# define env variables for configuration\n",
    "import os\n",
    "print(os.getenv(\"REDDIT_API_CLIENT_ID\"))\n",
    "os.environ['REDDIT_API_CLIENT_ID'] = os.getenv(\"REDDIT_API_CLIENT_ID\")\n",
    "os.environ['REDDIT_API_CLIENT_SECRET'] = os.getenv(\"REDDIT_API_CLIENT_SECRET\")\n",
    "os.environ['STOCK_DATA_API_KEY'] = os.getenv(\"STOCK_API_KEY\")"
   ]
  },
  {
   "cell_type": "markdown",
   "metadata": {},
   "source": [
    "### Step 3: Get to Scraping 🌐\n",
    "\n",
    "Now we're going to use the `scraper` module (found in the `TSLASentimentAnalyzer` folder) to \"scrape\" the subreddit of our choosing for posts!\n",
    "\n",
    "⚗️ RESOURCES: \n",
    "\n",
    "[Web Scraping](https://www.parsehub.com/blog/what-is-web-scraping/)\n",
    "\n",
    "[Reddit Post Options](https://www.reddit.com/r/help/comments/32eu8w/what_is_the_difference_between_newrising_hot_top/)"
   ]
  },
  {
   "cell_type": "markdown",
   "metadata": {},
   "source": [
    "##### Initializing the Scraper"
   ]
  },
  {
   "cell_type": "code",
   "execution_count": 7,
   "metadata": {},
   "outputs": [],
   "source": [
    "import pandas as pd\n",
    "from loguru import logger\n",
    "from TSLASentimentAnalyzer.classifier import predict\n",
    "from TSLASentimentAnalyzer.scraper import RedditScraper\n",
    "from TSLASentimentAnalyzer.config import settings\n",
    "\n",
    "# instantiating the reddit scraper\n",
    "reddit = RedditScraper(subreddit)### YOUR LINE OF CODE HERE"
   ]
  },
  {
   "cell_type": "markdown",
   "metadata": {},
   "source": [
    "##### Helper Functions 🔨\n",
    "\n",
    "Here are some helper functions to assist in collecting data!"
   ]
  },
  {
   "cell_type": "code",
   "execution_count": 8,
   "metadata": {},
   "outputs": [],
   "source": [
    "from collections.abc import Callable\n",
    "\n",
    "def load_comments(number: int, scraping_option: Callable) -> pd.DataFrame:\n",
    "    '''\n",
    "    loads comments from reddit using the RedditScraper using one of the options\n",
    "    and returns a DataFrame\n",
    "\n",
    "    Parameters\n",
    "    ----------\n",
    "    number : int\n",
    "        number of posts to load comments from\n",
    "\n",
    "    scraping_options: callable\n",
    "        expects a select_scrap_type function\n",
    "    '''\n",
    "    comments = []\n",
    "    for submission in scraping_option(number):\n",
    "        comments.extend(reddit.get_comment_forest(submission.comments))\n",
    "        logger.debug(\n",
    "            submission.title,\n",
    "            submission.num_comments,\n",
    "            len(reddit.get_comment_forest(submission.comments)),\n",
    "        )\n",
    "    df = pd.DataFrame(comments)\n",
    "    return df\n",
    "\n",
    "\n",
    "def select_scrap_type(option: str) -> Callable:\n",
    "    '''\n",
    "    selects a method from the reddit object based on a given option\n",
    "    '''\n",
    "    if option == \"Hot\":\n",
    "        return reddit.get_hot\n",
    "        \n",
    "    if option == \"Rising\":\n",
    "        return reddit.get_rising\n",
    "\n",
    "    if option == \"New\":\n",
    "        return reddit.get_new"
   ]
  },
  {
   "cell_type": "markdown",
   "metadata": {},
   "source": [
    "##### Loading & Processing the Reddit Comment Data\n",
    "\n",
    "Let's scrape the 15 🔥 hottest 🔥 posts from your selected subreddit using the `load_comments()` helper function!"
   ]
  },
  {
   "cell_type": "code",
   "execution_count": 9,
   "metadata": {},
   "outputs": [
    {
     "name": "stderr",
     "output_type": "stream",
     "text": [
      "2022-07-10 06:56:53.446 | DEBUG    | TSLASentimentAnalyzer.scraper:get_comment_forest:41 - <praw.models.comment_forest.CommentForest object at 0x1051e58e0>\n",
      "2022-07-10 06:56:53.447 | DEBUG    | TSLASentimentAnalyzer.scraper:get_comment_forest:41 - <praw.models.comment_forest.CommentForest object at 0x1051e58e0>\n",
      "2022-07-10 06:56:53.448 | DEBUG    | __main__:load_comments:19 - Daily Thread - July 09, 2022\n",
      "2022-07-10 06:56:57.183 | DEBUG    | TSLASentimentAnalyzer.scraper:get_comment_forest:41 - <praw.models.comment_forest.CommentForest object at 0x28379e5e0>\n",
      "2022-07-10 06:56:57.184 | INFO     | TSLASentimentAnalyzer.scraper:get_comment_forest:44 - more comments\n",
      "2022-07-10 06:56:57.636 | DEBUG    | TSLASentimentAnalyzer.scraper:get_comment_forest:41 - <MoreComments count=1, children=['i7h9jhn']>\n",
      "2022-07-10 06:56:57.637 | DEBUG    | TSLASentimentAnalyzer.scraper:get_comment_forest:45 - [{'comment': \"Walked right into that one, no?  Where, precisely, was the government impeding anyone's speech on Twitter?  No government censorship then it ain't a free speech matter.  It's a consequence-of-being-an-asshat-matter, just as it is for those thinking hate speech is permissible.  See also: paradox of tolerance.\", 'title': 'Long-running Thread for Detailed Discussion', 'id': 'i7h9jhn', 'created_at': 1651787094, 'score': 1}]\n",
      "2022-07-10 06:56:57.638 | INFO     | TSLASentimentAnalyzer.scraper:get_comment_forest:44 - more comments\n",
      "2022-07-10 06:56:57.994 | DEBUG    | TSLASentimentAnalyzer.scraper:get_comment_forest:41 - <MoreComments count=4, children=['i8zd27n']>\n",
      "2022-07-10 06:56:57.995 | DEBUG    | TSLASentimentAnalyzer.scraper:get_comment_forest:45 - [{'comment': 'The average income in China is like $8500/year. In India it’s like $2k. Those two countries comprise a huge portion of the worlds population. They are not going to lease a Tesla', 'title': 'Long-running Thread for Detailed Discussion', 'id': 'i8zd27n', 'created_at': 1652814797, 'score': 0}, {'comment': \"I disagree entirely with the premise of this comment: We're comparing like for like, and assuming better TCO. Those people wouldn't be buying a TM3/TMY-equivalent combustion vehicle either. \\n\\nIf we're stretching the conversation that far, you might as well add in all fish who can't drive a TM3 under the ocean, too.\", 'title': 'Long-running Thread for Detailed Discussion', 'id': 'i8zj7d7', 'created_at': 1652817316, 'score': 5}, {'comment': 'Yes you are right about that. I guess what I was getting at is that that Tesla currently competes in a niche luxury market segment for automobiles.', 'title': 'Long-running Thread for Detailed Discussion', 'id': 'i8zko83', 'created_at': 1652817924, 'score': 1}, {'comment': \"I agree. However, they are not inherently stuck in that niche, and it's TCO you want to base your analysis on, not retail sale price.\", 'title': 'Long-running Thread for Detailed Discussion', 'id': 'i8zljm8', 'created_at': 1652818287, 'score': 4}]\n",
      "2022-07-10 06:56:57.996 | INFO     | TSLASentimentAnalyzer.scraper:get_comment_forest:44 - more comments\n",
      "2022-07-10 06:56:58.396 | DEBUG    | TSLASentimentAnalyzer.scraper:get_comment_forest:41 - <MoreComments count=1, children=['i8ed87n']>\n",
      "2022-07-10 06:56:58.399 | DEBUG    | TSLASentimentAnalyzer.scraper:get_comment_forest:45 - [{'comment': 'Yep, agreed.', 'title': 'Long-running Thread for Detailed Discussion', 'id': 'i8ed87n', 'created_at': 1652406930, 'score': 0}]\n",
      "2022-07-10 06:56:58.400 | INFO     | TSLASentimentAnalyzer.scraper:get_comment_forest:44 - more comments\n",
      "2022-07-10 06:56:58.745 | DEBUG    | TSLASentimentAnalyzer.scraper:get_comment_forest:41 - <MoreComments count=1, children=['i9laoge']>\n",
      "2022-07-10 06:56:58.747 | DEBUG    | TSLASentimentAnalyzer.scraper:get_comment_forest:45 - [{'comment': 'If he knew recession is coming, why is he buying twitter at 50% over its value screwing tsla investors in the process, \\nAs a CEO where some damn fiduciary responsibility to tesla’s shareholders and stop dhooting the company into their own legs with makinh fun of libtards and dems, hes killing off the demand and for every damn idiotic tweet he looses potential buyers, \\n\\nAnd dont tell me musk is musk, he was never this politically polarizing ,\\n\\nSomeone get his off the board of directors and maybe get him iff the platform and let him go back with playing with rockets and building cars which is his strong point', 'title': 'Long-running Thread for Detailed Discussion', 'id': 'i9laoge', 'created_at': 1653243546, 'score': 0}]\n",
      "2022-07-10 06:56:58.747 | INFO     | TSLASentimentAnalyzer.scraper:get_comment_forest:44 - more comments\n",
      "2022-07-10 06:56:59.205 | DEBUG    | TSLASentimentAnalyzer.scraper:get_comment_forest:41 - <MoreComments count=0, children=[]>\n",
      "2022-07-10 06:56:59.207 | DEBUG    | TSLASentimentAnalyzer.scraper:get_comment_forest:45 - [{'comment': \"Tesla is not just competing with other electric cars.\\n\\nThey are competing with all cars, [as you yourself just said.](https://www.reddit.com/r/teslainvestorsclub/comments/t0qeyu/comment/i89866n/?utm_source=reddit&utm_medium=web2x&context=3)\\n\\nIn fact, a friend of mine recently cross-shopped a TM3 and a AMG C43, and ended up with the C43 — which he's quite proud of.\", 'title': 'Long-running Thread for Detailed Discussion', 'id': 'i8bpatw', 'created_at': 1652367074, 'score': 2}]\n",
      "2022-07-10 06:56:59.207 | INFO     | TSLASentimentAnalyzer.scraper:get_comment_forest:44 - more comments\n",
      "2022-07-10 06:56:59.635 | DEBUG    | TSLASentimentAnalyzer.scraper:get_comment_forest:41 - <MoreComments count=0, children=[]>\n",
      "2022-07-10 06:56:59.636 | DEBUG    | TSLASentimentAnalyzer.scraper:get_comment_forest:45 - [{'comment': 'Or what percentage of incidents are known by Tesla to be caused by doing everything they can to minimize false negatives, something which could change when they get to a certain confidence level.\\n\\nBetter some uncomfortable rides than a string of dead kids.', 'title': 'Long-running Thread for Detailed Discussion', 'id': 'hyyy6dy', 'created_at': 1646173357, 'score': 3}]\n",
      "2022-07-10 06:56:59.637 | INFO     | TSLASentimentAnalyzer.scraper:get_comment_forest:44 - more comments\n",
      "2022-07-10 06:57:00.080 | DEBUG    | TSLASentimentAnalyzer.scraper:get_comment_forest:41 - <MoreComments count=0, children=[]>\n",
      "2022-07-10 06:57:00.081 | DEBUG    | TSLASentimentAnalyzer.scraper:get_comment_forest:45 - [{'comment': \"It's a investment forum, analysts are of financial nature in this sub. It's up to you to express yourself in a matter that we can understand. But I can tell you lack the maturity to accept you might have been less than absolute perfect alpha chad. That's why I surrender, you win!\", 'title': 'Long-running Thread for Detailed Discussion', 'id': 'i00lrkq', 'created_at': 1646857429, 'score': 0}]\n",
      "2022-07-10 06:57:00.081 | INFO     | TSLASentimentAnalyzer.scraper:get_comment_forest:44 - more comments\n",
      "2022-07-10 06:57:00.507 | DEBUG    | TSLASentimentAnalyzer.scraper:get_comment_forest:41 - <MoreComments count=0, children=[]>\n",
      "2022-07-10 06:57:00.508 | DEBUG    | TSLASentimentAnalyzer.scraper:get_comment_forest:45 - [{'comment': 'I will be messaging you in 3 years on [**2025-04-12 17:44:36 UTC**](http://www.wolframalpha.com/input/?i=2025-04-12%2017:44:36%20UTC%20To%20Local%20Time) to remind you of [**this link**](https://www.reddit.com/r/teslainvestorsclub/comments/t0qeyu/longrunning_thread_for_detailed_discussion/i4gfftu/?context=3)\\n\\n[**1 OTHERS CLICKED THIS LINK**](https://www.reddit.com/message/compose/?to=RemindMeBot&subject=Reminder&message=%5Bhttps%3A%2F%2Fwww.reddit.com%2Fr%2Fteslainvestorsclub%2Fcomments%2Ft0qeyu%2Flongrunning_thread_for_detailed_discussion%2Fi4gfftu%2F%5D%0A%0ARemindMe%21%202025-04-12%2017%3A44%3A36%20UTC) to send a PM to also be reminded and to reduce spam.\\n\\n^(Parent commenter can ) [^(delete this message to hide from others.)](https://www.reddit.com/message/compose/?to=RemindMeBot&subject=Delete%20Comment&message=Delete%21%20t0qeyu)\\n\\n*****\\n\\n|[^(Info)](https://www.reddit.com/r/RemindMeBot/comments/e1bko7/remindmebot_info_v21/)|[^(Custom)](https://www.reddit.com/message/compose/?to=RemindMeBot&subject=Reminder&message=%5BLink%20or%20message%20inside%20square%20brackets%5D%0A%0ARemindMe%21%20Time%20period%20here)|[^(Your Reminders)](https://www.reddit.com/message/compose/?to=RemindMeBot&subject=List%20Of%20Reminders&message=MyReminders%21)|[^(Feedback)](https://www.reddit.com/message/compose/?to=Watchful1&subject=RemindMeBot%20Feedback)|\\n|-|-|-|-|', 'title': 'Long-running Thread for Detailed Discussion', 'id': 'i4gfj70', 'created_at': 1649785510, 'score': 1}]\n",
      "2022-07-10 06:57:00.509 | INFO     | TSLASentimentAnalyzer.scraper:get_comment_forest:44 - more comments\n",
      "2022-07-10 06:57:01.014 | DEBUG    | TSLASentimentAnalyzer.scraper:get_comment_forest:41 - <MoreComments count=0, children=[]>\n",
      "2022-07-10 06:57:01.015 | DEBUG    | TSLASentimentAnalyzer.scraper:get_comment_forest:45 - [{'comment': 'Exactly, thesis is the same. Bitcoin from 2013 - 2017 taught me to be patient and to switch off emotions in investing :)', 'title': 'Long-running Thread for Detailed Discussion', 'id': 'iaja4kc', 'created_at': 1653911779, 'score': 1}]\n",
      "2022-07-10 06:57:01.017 | DEBUG    | TSLASentimentAnalyzer.scraper:get_comment_forest:41 - <praw.models.comment_forest.CommentForest object at 0x28379e5e0>\n",
      "2022-07-10 06:57:01.019 | INFO     | TSLASentimentAnalyzer.scraper:get_comment_forest:44 - more comments\n",
      "2022-07-10 06:57:01.020 | DEBUG    | TSLASentimentAnalyzer.scraper:get_comment_forest:41 - <MoreComments count=1, children=['i7h9jhn']>\n",
      "2022-07-10 06:57:01.020 | DEBUG    | TSLASentimentAnalyzer.scraper:get_comment_forest:45 - [{'comment': \"Walked right into that one, no?  Where, precisely, was the government impeding anyone's speech on Twitter?  No government censorship then it ain't a free speech matter.  It's a consequence-of-being-an-asshat-matter, just as it is for those thinking hate speech is permissible.  See also: paradox of tolerance.\", 'title': 'Long-running Thread for Detailed Discussion', 'id': 'i7h9jhn', 'created_at': 1651787094, 'score': 1}]\n",
      "2022-07-10 06:57:01.021 | INFO     | TSLASentimentAnalyzer.scraper:get_comment_forest:44 - more comments\n",
      "2022-07-10 06:57:01.022 | DEBUG    | TSLASentimentAnalyzer.scraper:get_comment_forest:41 - <MoreComments count=4, children=['i8zd27n']>\n",
      "2022-07-10 06:57:01.023 | DEBUG    | TSLASentimentAnalyzer.scraper:get_comment_forest:45 - [{'comment': 'The average income in China is like $8500/year. In India it’s like $2k. Those two countries comprise a huge portion of the worlds population. They are not going to lease a Tesla', 'title': 'Long-running Thread for Detailed Discussion', 'id': 'i8zd27n', 'created_at': 1652814797, 'score': 0}, {'comment': \"I disagree entirely with the premise of this comment: We're comparing like for like, and assuming better TCO. Those people wouldn't be buying a TM3/TMY-equivalent combustion vehicle either. \\n\\nIf we're stretching the conversation that far, you might as well add in all fish who can't drive a TM3 under the ocean, too.\", 'title': 'Long-running Thread for Detailed Discussion', 'id': 'i8zj7d7', 'created_at': 1652817316, 'score': 5}, {'comment': 'Yes you are right about that. I guess what I was getting at is that that Tesla currently competes in a niche luxury market segment for automobiles.', 'title': 'Long-running Thread for Detailed Discussion', 'id': 'i8zko83', 'created_at': 1652817924, 'score': 1}, {'comment': \"I agree. However, they are not inherently stuck in that niche, and it's TCO you want to base your analysis on, not retail sale price.\", 'title': 'Long-running Thread for Detailed Discussion', 'id': 'i8zljm8', 'created_at': 1652818287, 'score': 4}]\n",
      "2022-07-10 06:57:01.024 | INFO     | TSLASentimentAnalyzer.scraper:get_comment_forest:44 - more comments\n",
      "2022-07-10 06:57:01.025 | DEBUG    | TSLASentimentAnalyzer.scraper:get_comment_forest:41 - <MoreComments count=1, children=['i8ed87n']>\n",
      "2022-07-10 06:57:01.025 | DEBUG    | TSLASentimentAnalyzer.scraper:get_comment_forest:45 - [{'comment': 'Yep, agreed.', 'title': 'Long-running Thread for Detailed Discussion', 'id': 'i8ed87n', 'created_at': 1652406930, 'score': 0}]\n",
      "2022-07-10 06:57:01.026 | INFO     | TSLASentimentAnalyzer.scraper:get_comment_forest:44 - more comments\n",
      "2022-07-10 06:57:01.026 | DEBUG    | TSLASentimentAnalyzer.scraper:get_comment_forest:41 - <MoreComments count=1, children=['i9laoge']>\n",
      "2022-07-10 06:57:01.027 | DEBUG    | TSLASentimentAnalyzer.scraper:get_comment_forest:45 - [{'comment': 'If he knew recession is coming, why is he buying twitter at 50% over its value screwing tsla investors in the process, \\nAs a CEO where some damn fiduciary responsibility to tesla’s shareholders and stop dhooting the company into their own legs with makinh fun of libtards and dems, hes killing off the demand and for every damn idiotic tweet he looses potential buyers, \\n\\nAnd dont tell me musk is musk, he was never this politically polarizing ,\\n\\nSomeone get his off the board of directors and maybe get him iff the platform and let him go back with playing with rockets and building cars which is his strong point', 'title': 'Long-running Thread for Detailed Discussion', 'id': 'i9laoge', 'created_at': 1653243546, 'score': 0}]\n",
      "2022-07-10 06:57:01.027 | INFO     | TSLASentimentAnalyzer.scraper:get_comment_forest:44 - more comments\n",
      "2022-07-10 06:57:01.028 | DEBUG    | TSLASentimentAnalyzer.scraper:get_comment_forest:41 - <MoreComments count=0, children=[]>\n",
      "2022-07-10 06:57:01.029 | DEBUG    | TSLASentimentAnalyzer.scraper:get_comment_forest:45 - [{'comment': \"Tesla is not just competing with other electric cars.\\n\\nThey are competing with all cars, [as you yourself just said.](https://www.reddit.com/r/teslainvestorsclub/comments/t0qeyu/comment/i89866n/?utm_source=reddit&utm_medium=web2x&context=3)\\n\\nIn fact, a friend of mine recently cross-shopped a TM3 and a AMG C43, and ended up with the C43 — which he's quite proud of.\", 'title': 'Long-running Thread for Detailed Discussion', 'id': 'i8bpatw', 'created_at': 1652367074, 'score': 2}]\n",
      "2022-07-10 06:57:01.029 | INFO     | TSLASentimentAnalyzer.scraper:get_comment_forest:44 - more comments\n",
      "2022-07-10 06:57:01.030 | DEBUG    | TSLASentimentAnalyzer.scraper:get_comment_forest:41 - <MoreComments count=0, children=[]>\n",
      "2022-07-10 06:57:01.030 | DEBUG    | TSLASentimentAnalyzer.scraper:get_comment_forest:45 - [{'comment': 'Or what percentage of incidents are known by Tesla to be caused by doing everything they can to minimize false negatives, something which could change when they get to a certain confidence level.\\n\\nBetter some uncomfortable rides than a string of dead kids.', 'title': 'Long-running Thread for Detailed Discussion', 'id': 'hyyy6dy', 'created_at': 1646173357, 'score': 3}]\n",
      "2022-07-10 06:57:01.031 | INFO     | TSLASentimentAnalyzer.scraper:get_comment_forest:44 - more comments\n",
      "2022-07-10 06:57:01.031 | DEBUG    | TSLASentimentAnalyzer.scraper:get_comment_forest:41 - <MoreComments count=0, children=[]>\n",
      "2022-07-10 06:57:01.032 | DEBUG    | TSLASentimentAnalyzer.scraper:get_comment_forest:45 - [{'comment': \"It's a investment forum, analysts are of financial nature in this sub. It's up to you to express yourself in a matter that we can understand. But I can tell you lack the maturity to accept you might have been less than absolute perfect alpha chad. That's why I surrender, you win!\", 'title': 'Long-running Thread for Detailed Discussion', 'id': 'i00lrkq', 'created_at': 1646857429, 'score': 0}]\n",
      "2022-07-10 06:57:01.033 | INFO     | TSLASentimentAnalyzer.scraper:get_comment_forest:44 - more comments\n",
      "2022-07-10 06:57:01.033 | DEBUG    | TSLASentimentAnalyzer.scraper:get_comment_forest:41 - <MoreComments count=0, children=[]>\n",
      "2022-07-10 06:57:01.034 | DEBUG    | TSLASentimentAnalyzer.scraper:get_comment_forest:45 - [{'comment': 'I will be messaging you in 3 years on [**2025-04-12 17:44:36 UTC**](http://www.wolframalpha.com/input/?i=2025-04-12%2017:44:36%20UTC%20To%20Local%20Time) to remind you of [**this link**](https://www.reddit.com/r/teslainvestorsclub/comments/t0qeyu/longrunning_thread_for_detailed_discussion/i4gfftu/?context=3)\\n\\n[**1 OTHERS CLICKED THIS LINK**](https://www.reddit.com/message/compose/?to=RemindMeBot&subject=Reminder&message=%5Bhttps%3A%2F%2Fwww.reddit.com%2Fr%2Fteslainvestorsclub%2Fcomments%2Ft0qeyu%2Flongrunning_thread_for_detailed_discussion%2Fi4gfftu%2F%5D%0A%0ARemindMe%21%202025-04-12%2017%3A44%3A36%20UTC) to send a PM to also be reminded and to reduce spam.\\n\\n^(Parent commenter can ) [^(delete this message to hide from others.)](https://www.reddit.com/message/compose/?to=RemindMeBot&subject=Delete%20Comment&message=Delete%21%20t0qeyu)\\n\\n*****\\n\\n|[^(Info)](https://www.reddit.com/r/RemindMeBot/comments/e1bko7/remindmebot_info_v21/)|[^(Custom)](https://www.reddit.com/message/compose/?to=RemindMeBot&subject=Reminder&message=%5BLink%20or%20message%20inside%20square%20brackets%5D%0A%0ARemindMe%21%20Time%20period%20here)|[^(Your Reminders)](https://www.reddit.com/message/compose/?to=RemindMeBot&subject=List%20Of%20Reminders&message=MyReminders%21)|[^(Feedback)](https://www.reddit.com/message/compose/?to=Watchful1&subject=RemindMeBot%20Feedback)|\\n|-|-|-|-|', 'title': 'Long-running Thread for Detailed Discussion', 'id': 'i4gfj70', 'created_at': 1649785510, 'score': 1}]\n",
      "2022-07-10 06:57:01.034 | INFO     | TSLASentimentAnalyzer.scraper:get_comment_forest:44 - more comments\n",
      "2022-07-10 06:57:01.034 | DEBUG    | TSLASentimentAnalyzer.scraper:get_comment_forest:41 - <MoreComments count=0, children=[]>\n",
      "2022-07-10 06:57:01.035 | DEBUG    | TSLASentimentAnalyzer.scraper:get_comment_forest:45 - [{'comment': 'Exactly, thesis is the same. Bitcoin from 2013 - 2017 taught me to be patient and to switch off emotions in investing :)', 'title': 'Long-running Thread for Detailed Discussion', 'id': 'iaja4kc', 'created_at': 1653911779, 'score': 1}]\n",
      "2022-07-10 06:57:01.035 | DEBUG    | __main__:load_comments:19 - Long-running Thread for Detailed Discussion\n",
      "2022-07-10 06:57:01.628 | DEBUG    | TSLASentimentAnalyzer.scraper:get_comment_forest:41 - <praw.models.comment_forest.CommentForest object at 0x2838b8280>\n",
      "2022-07-10 06:57:01.629 | DEBUG    | TSLASentimentAnalyzer.scraper:get_comment_forest:41 - <praw.models.comment_forest.CommentForest object at 0x2838b8280>\n",
      "2022-07-10 06:57:01.630 | DEBUG    | __main__:load_comments:19 - Elon Musk Explains SpaceX's Raptor Engine!\n",
      "2022-07-10 06:57:02.138 | DEBUG    | TSLASentimentAnalyzer.scraper:get_comment_forest:41 - <praw.models.comment_forest.CommentForest object at 0x283850b80>\n",
      "2022-07-10 06:57:02.139 | DEBUG    | TSLASentimentAnalyzer.scraper:get_comment_forest:41 - <praw.models.comment_forest.CommentForest object at 0x283850b80>\n",
      "2022-07-10 06:57:02.140 | DEBUG    | __main__:load_comments:19 - More Americans Would Buy an Electric Vehicle, and Some Consumers Would Use Low-Carbon Fuels, Survey Shows (Consumer Reports)\n",
      "2022-07-10 06:57:02.547 | DEBUG    | TSLASentimentAnalyzer.scraper:get_comment_forest:41 - <praw.models.comment_forest.CommentForest object at 0x28385eb20>\n",
      "2022-07-10 06:57:02.549 | DEBUG    | TSLASentimentAnalyzer.scraper:get_comment_forest:41 - <praw.models.comment_forest.CommentForest object at 0x28385eb20>\n",
      "2022-07-10 06:57:02.549 | DEBUG    | __main__:load_comments:19 - Tesla China's top executive to oversee Asia Pacific operations\n",
      "2022-07-10 06:57:05.054 | DEBUG    | TSLASentimentAnalyzer.scraper:get_comment_forest:41 - <praw.models.comment_forest.CommentForest object at 0x28386bf40>\n",
      "2022-07-10 06:57:05.055 | INFO     | TSLASentimentAnalyzer.scraper:get_comment_forest:44 - more comments\n",
      "2022-07-10 06:57:05.619 | DEBUG    | TSLASentimentAnalyzer.scraper:get_comment_forest:41 - <MoreComments count=0, children=[]>\n",
      "2022-07-10 06:57:05.619 | DEBUG    | TSLASentimentAnalyzer.scraper:get_comment_forest:45 - [{'comment': \"That's such a sad excuse.\\n\\nIf you have been defrauded since day one you have no clue what the actual results should be like.\\n\\nImagine being underpaid since you were hired. You are obviously happy since you haven't quit your job but that doesn't mean you are gonna like it when you find out you have been underpaid.\\n\\nAnd people are suing all the time when they find out.\", 'title': 'Elon Musk terminates $44 bln Twitter deal', 'id': 'ifhh2sx', 'created_at': 1657381418, 'score': 2}, {'comment': \"Fraud is fraud.  The board has to sue, and I suspect Elon and his crew know where the bodies are buried (Jack Dorsey).\\n\\nThis isn't over, for sure...\\n\\n\\\\*\\\\* *popcorn time* \\\\*\\\\*\", 'title': 'Elon Musk terminates $44 bln Twitter deal', 'id': 'ifhl3ev', 'created_at': 1657383171, 'score': 2}, {'comment': 'If Twitter knows there are more.than 5% bots (which they likely do) and if they reported the 5% number with skewed calculations knowing that fact, then they are absolutely screwed.', 'title': 'Elon Musk terminates $44 bln Twitter deal', 'id': 'ifhmk8i', 'created_at': 1657383807, 'score': 2}]\n",
      "2022-07-10 06:57:05.620 | INFO     | TSLASentimentAnalyzer.scraper:get_comment_forest:44 - more comments\n",
      "2022-07-10 06:57:06.076 | DEBUG    | TSLASentimentAnalyzer.scraper:get_comment_forest:41 - <MoreComments count=0, children=[]>\n",
      "2022-07-10 06:57:06.077 | DEBUG    | TSLASentimentAnalyzer.scraper:get_comment_forest:45 - [{'comment': '>They where labeled as estimates, and Elon is asking for how they made those estimates, Twitter refused.\\n\\nTo put it exceedingly plainly, Elon has no right to that information until he hands over the money and takes possession of the company. When he signed the agreement to buy Twitter at a specific price, that ended his chance to do due diligence.\\n\\n\"I think they\\'re lying about how they came to the numbers that they gave to investors\" is not enough evidence to drag Twitter\\'s internals into discovery, btw.', 'title': 'Elon Musk terminates $44 bln Twitter deal', 'id': 'ifgwhi9', 'created_at': 1657371607, 'score': 1}]\n",
      "2022-07-10 06:57:06.078 | INFO     | TSLASentimentAnalyzer.scraper:get_comment_forest:44 - more comments\n",
      "2022-07-10 06:57:06.544 | DEBUG    | TSLASentimentAnalyzer.scraper:get_comment_forest:41 - <MoreComments count=0, children=[]>\n",
      "2022-07-10 06:57:06.545 | DEBUG    | TSLASentimentAnalyzer.scraper:get_comment_forest:45 - [{'comment': \"I'm arguing that the initial metrics were thought up during a narcissism binge. Twitter didn't change, he just had a stupid idea, ran with it too hard and is having buyers remorse.\", 'title': 'Elon Musk terminates $44 bln Twitter deal', 'id': 'ifhz835', 'created_at': 1657389303, 'score': 1}]\n",
      "2022-07-10 06:57:06.546 | INFO     | TSLASentimentAnalyzer.scraper:get_comment_forest:44 - more comments\n",
      "2022-07-10 06:57:06.999 | DEBUG    | TSLASentimentAnalyzer.scraper:get_comment_forest:41 - <MoreComments count=0, children=[]>\n",
      "2022-07-10 06:57:07.000 | DEBUG    | TSLASentimentAnalyzer.scraper:get_comment_forest:45 - [{'comment': 'So what? Until he pays the deal isn’t done. If the business you agreed to buy has made financial statements that are false then that’s grounds to terminate any agreement and not complete a deal. I’ve been involved in M&A, this isn’t all that uncommon of a situation.', 'title': 'Elon Musk terminates $44 bln Twitter deal', 'id': 'ifgcl47', 'created_at': 1657357030, 'score': 2}]\n",
      "2022-07-10 06:57:07.002 | DEBUG    | TSLASentimentAnalyzer.scraper:get_comment_forest:41 - <praw.models.comment_forest.CommentForest object at 0x28386bf40>\n",
      "2022-07-10 06:57:07.003 | INFO     | TSLASentimentAnalyzer.scraper:get_comment_forest:44 - more comments\n",
      "2022-07-10 06:57:07.004 | DEBUG    | TSLASentimentAnalyzer.scraper:get_comment_forest:41 - <MoreComments count=0, children=[]>\n",
      "2022-07-10 06:57:07.005 | DEBUG    | TSLASentimentAnalyzer.scraper:get_comment_forest:45 - [{'comment': \"That's such a sad excuse.\\n\\nIf you have been defrauded since day one you have no clue what the actual results should be like.\\n\\nImagine being underpaid since you were hired. You are obviously happy since you haven't quit your job but that doesn't mean you are gonna like it when you find out you have been underpaid.\\n\\nAnd people are suing all the time when they find out.\", 'title': 'Elon Musk terminates $44 bln Twitter deal', 'id': 'ifhh2sx', 'created_at': 1657381418, 'score': 2}, {'comment': \"Fraud is fraud.  The board has to sue, and I suspect Elon and his crew know where the bodies are buried (Jack Dorsey).\\n\\nThis isn't over, for sure...\\n\\n\\\\*\\\\* *popcorn time* \\\\*\\\\*\", 'title': 'Elon Musk terminates $44 bln Twitter deal', 'id': 'ifhl3ev', 'created_at': 1657383171, 'score': 2}, {'comment': 'If Twitter knows there are more.than 5% bots (which they likely do) and if they reported the 5% number with skewed calculations knowing that fact, then they are absolutely screwed.', 'title': 'Elon Musk terminates $44 bln Twitter deal', 'id': 'ifhmk8i', 'created_at': 1657383807, 'score': 2}]\n",
      "2022-07-10 06:57:07.006 | INFO     | TSLASentimentAnalyzer.scraper:get_comment_forest:44 - more comments\n",
      "2022-07-10 06:57:07.007 | DEBUG    | TSLASentimentAnalyzer.scraper:get_comment_forest:41 - <MoreComments count=0, children=[]>\n",
      "2022-07-10 06:57:07.007 | DEBUG    | TSLASentimentAnalyzer.scraper:get_comment_forest:45 - [{'comment': '>They where labeled as estimates, and Elon is asking for how they made those estimates, Twitter refused.\\n\\nTo put it exceedingly plainly, Elon has no right to that information until he hands over the money and takes possession of the company. When he signed the agreement to buy Twitter at a specific price, that ended his chance to do due diligence.\\n\\n\"I think they\\'re lying about how they came to the numbers that they gave to investors\" is not enough evidence to drag Twitter\\'s internals into discovery, btw.', 'title': 'Elon Musk terminates $44 bln Twitter deal', 'id': 'ifgwhi9', 'created_at': 1657371607, 'score': 1}]\n",
      "2022-07-10 06:57:07.008 | INFO     | TSLASentimentAnalyzer.scraper:get_comment_forest:44 - more comments\n",
      "2022-07-10 06:57:07.008 | DEBUG    | TSLASentimentAnalyzer.scraper:get_comment_forest:41 - <MoreComments count=0, children=[]>\n",
      "2022-07-10 06:57:07.009 | DEBUG    | TSLASentimentAnalyzer.scraper:get_comment_forest:45 - [{'comment': \"I'm arguing that the initial metrics were thought up during a narcissism binge. Twitter didn't change, he just had a stupid idea, ran with it too hard and is having buyers remorse.\", 'title': 'Elon Musk terminates $44 bln Twitter deal', 'id': 'ifhz835', 'created_at': 1657389303, 'score': 1}]\n",
      "2022-07-10 06:57:07.009 | INFO     | TSLASentimentAnalyzer.scraper:get_comment_forest:44 - more comments\n",
      "2022-07-10 06:57:07.010 | DEBUG    | TSLASentimentAnalyzer.scraper:get_comment_forest:41 - <MoreComments count=0, children=[]>\n",
      "2022-07-10 06:57:07.011 | DEBUG    | TSLASentimentAnalyzer.scraper:get_comment_forest:45 - [{'comment': 'So what? Until he pays the deal isn’t done. If the business you agreed to buy has made financial statements that are false then that’s grounds to terminate any agreement and not complete a deal. I’ve been involved in M&A, this isn’t all that uncommon of a situation.', 'title': 'Elon Musk terminates $44 bln Twitter deal', 'id': 'ifgcl47', 'created_at': 1657357030, 'score': 2}]\n",
      "2022-07-10 06:57:07.013 | DEBUG    | __main__:load_comments:19 - Elon Musk terminates $44 bln Twitter deal\n",
      "2022-07-10 06:57:07.520 | DEBUG    | TSLASentimentAnalyzer.scraper:get_comment_forest:41 - <praw.models.comment_forest.CommentForest object at 0x2839ba9d0>\n",
      "2022-07-10 06:57:07.521 | DEBUG    | TSLASentimentAnalyzer.scraper:get_comment_forest:41 - <praw.models.comment_forest.CommentForest object at 0x2839ba9d0>\n",
      "2022-07-10 06:57:07.522 | DEBUG    | __main__:load_comments:19 - Tesla Appoints its China Executive to the Asia Pacific as Local Team Has Proven Exceptional Professionalism\n",
      "2022-07-10 06:57:07.974 | DEBUG    | TSLASentimentAnalyzer.scraper:get_comment_forest:41 - <praw.models.comment_forest.CommentForest object at 0x283a51fa0>\n",
      "2022-07-10 06:57:07.975 | DEBUG    | TSLASentimentAnalyzer.scraper:get_comment_forest:41 - <praw.models.comment_forest.CommentForest object at 0x283a51fa0>\n",
      "2022-07-10 06:57:07.975 | DEBUG    | __main__:load_comments:19 - Tesla brings back trade-in estimate tool, but for US markets only\n",
      "2022-07-10 06:57:08.442 | DEBUG    | TSLASentimentAnalyzer.scraper:get_comment_forest:41 - <praw.models.comment_forest.CommentForest object at 0x283a52580>\n",
      "2022-07-10 06:57:08.443 | DEBUG    | TSLASentimentAnalyzer.scraper:get_comment_forest:41 - <praw.models.comment_forest.CommentForest object at 0x283a52580>\n",
      "2022-07-10 06:57:08.443 | DEBUG    | __main__:load_comments:19 - Megapack price has been increased by 25% in last 3 months, and by 55% since Aug 2021.\n",
      "2022-07-10 06:57:08.833 | DEBUG    | TSLASentimentAnalyzer.scraper:get_comment_forest:41 - <praw.models.comment_forest.CommentForest object at 0x283a525e0>\n",
      "2022-07-10 06:57:08.834 | DEBUG    | TSLASentimentAnalyzer.scraper:get_comment_forest:41 - <praw.models.comment_forest.CommentForest object at 0x283a525e0>\n",
      "2022-07-10 06:57:08.834 | DEBUG    | __main__:load_comments:19 - Tesla Giga Texas to receive EV parts from Pass Automotive Mexico\n",
      "2022-07-10 06:57:09.411 | DEBUG    | TSLASentimentAnalyzer.scraper:get_comment_forest:41 - <praw.models.comment_forest.CommentForest object at 0x283a65a30>\n",
      "2022-07-10 06:57:09.412 | DEBUG    | TSLASentimentAnalyzer.scraper:get_comment_forest:41 - <praw.models.comment_forest.CommentForest object at 0x283a65a30>\n",
      "2022-07-10 06:57:09.413 | DEBUG    | __main__:load_comments:19 - Tesla is back! Shanghai Sets A Record In June With 78,906 Vehicles Sold\n",
      "2022-07-10 06:57:10.369 | DEBUG    | TSLASentimentAnalyzer.scraper:get_comment_forest:41 - <praw.models.comment_forest.CommentForest object at 0x283a81e80>\n",
      "2022-07-10 06:57:10.371 | DEBUG    | TSLASentimentAnalyzer.scraper:get_comment_forest:41 - <praw.models.comment_forest.CommentForest object at 0x283a81e80>\n",
      "2022-07-10 06:57:10.372 | DEBUG    | __main__:load_comments:19 - Tesla orders Cybertruck drive unit production equipment: Report\n",
      "2022-07-10 06:57:10.798 | DEBUG    | TSLASentimentAnalyzer.scraper:get_comment_forest:41 - <praw.models.comment_forest.CommentForest object at 0x283a80190>\n",
      "2022-07-10 06:57:10.799 | DEBUG    | TSLASentimentAnalyzer.scraper:get_comment_forest:41 - <praw.models.comment_forest.CommentForest object at 0x283a80190>\n",
      "2022-07-10 06:57:10.799 | DEBUG    | __main__:load_comments:19 - Tesla China June 2022, Delivery Records\n",
      "2022-07-10 06:57:11.185 | DEBUG    | TSLASentimentAnalyzer.scraper:get_comment_forest:41 - <praw.models.comment_forest.CommentForest object at 0x28398d640>\n",
      "2022-07-10 06:57:11.186 | DEBUG    | TSLASentimentAnalyzer.scraper:get_comment_forest:41 - <praw.models.comment_forest.CommentForest object at 0x28398d640>\n",
      "2022-07-10 06:57:11.187 | DEBUG    | __main__:load_comments:19 - Giga Texas Structural Battery Pack Cover | Tesla Model Y\n",
      "2022-07-10 06:57:11.661 | DEBUG    | TSLASentimentAnalyzer.scraper:get_comment_forest:41 - <praw.models.comment_forest.CommentForest object at 0x283ab1e50>\n",
      "2022-07-10 06:57:11.661 | DEBUG    | TSLASentimentAnalyzer.scraper:get_comment_forest:41 - <praw.models.comment_forest.CommentForest object at 0x283ab1e50>\n",
      "2022-07-10 06:57:11.662 | DEBUG    | __main__:load_comments:19 - Tesla China June Sales 78,906 Wholesale 968 Export\n"
     ]
    }
   ],
   "source": [
    "# Scraping data from reddit\n",
    "dfReddit = load_comments(15,select_scrap_type(\"Hot\"))### YOUR LINE OF CODE HERE"
   ]
  },
  {
   "cell_type": "markdown",
   "metadata": {},
   "source": [
    "Once we have our comments, let's use the [`pandas.Series.str.slice()`](https://pandas.pydata.org/docs/reference/api/pandas.Series.str.slice.html) method to ensure our data will play nicely with our model. (`bert` only supports up to a maximum of 512 tokens, so a range of `0` to `512` seems appropriate)"
   ]
  },
  {
   "cell_type": "code",
   "execution_count": 15,
   "metadata": {},
   "outputs": [
    {
     "data": {
      "text/html": [
       "<div>\n",
       "<style scoped>\n",
       "    .dataframe tbody tr th:only-of-type {\n",
       "        vertical-align: middle;\n",
       "    }\n",
       "\n",
       "    .dataframe tbody tr th {\n",
       "        vertical-align: top;\n",
       "    }\n",
       "\n",
       "    .dataframe thead th {\n",
       "        text-align: right;\n",
       "    }\n",
       "</style>\n",
       "<table border=\"1\" class=\"dataframe\">\n",
       "  <thead>\n",
       "    <tr style=\"text-align: right;\">\n",
       "      <th></th>\n",
       "      <th>comment</th>\n",
       "      <th>title</th>\n",
       "      <th>id</th>\n",
       "      <th>created_at</th>\n",
       "      <th>score</th>\n",
       "    </tr>\n",
       "  </thead>\n",
       "  <tbody>\n",
       "    <tr>\n",
       "      <th>0</th>\n",
       "      <td>Alright ! Italy here I come 😀. Finished workin...</td>\n",
       "      <td>Daily Thread - July 09, 2022</td>\n",
       "      <td>ifgcamx</td>\n",
       "      <td>1657356780</td>\n",
       "      <td>12</td>\n",
       "    </tr>\n",
       "    <tr>\n",
       "      <th>1</th>\n",
       "      <td>Apparently /r/WallStreetBets is now an officia...</td>\n",
       "      <td>Daily Thread - July 09, 2022</td>\n",
       "      <td>ifipat3</td>\n",
       "      <td>1657401032</td>\n",
       "      <td>12</td>\n",
       "    </tr>\n",
       "    <tr>\n",
       "      <th>2</th>\n",
       "      <td>According to my local online retailer the chip...</td>\n",
       "      <td>Daily Thread - July 09, 2022</td>\n",
       "      <td>ifgee3x</td>\n",
       "      <td>1657358557</td>\n",
       "      <td>10</td>\n",
       "    </tr>\n",
       "    <tr>\n",
       "      <th>3</th>\n",
       "      <td>Another week passes, another week where Elon s...</td>\n",
       "      <td>Daily Thread - July 09, 2022</td>\n",
       "      <td>ifihmlo</td>\n",
       "      <td>1657397589</td>\n",
       "      <td>11</td>\n",
       "    </tr>\n",
       "    <tr>\n",
       "      <th>4</th>\n",
       "      <td>June China / MY dominating even vs much cheape...</td>\n",
       "      <td>Daily Thread - July 09, 2022</td>\n",
       "      <td>ifiv959</td>\n",
       "      <td>1657403757</td>\n",
       "      <td>9</td>\n",
       "    </tr>\n",
       "    <tr>\n",
       "      <th>...</th>\n",
       "      <td>...</td>\n",
       "      <td>...</td>\n",
       "      <td>...</td>\n",
       "      <td>...</td>\n",
       "      <td>...</td>\n",
       "    </tr>\n",
       "    <tr>\n",
       "      <th>1055</th>\n",
       "      <td>At that rate, 948,000/year</td>\n",
       "      <td>Tesla China June Sales 78,906 Wholesale 968 Ex...</td>\n",
       "      <td>ifc1gme</td>\n",
       "      <td>1657282152</td>\n",
       "      <td>8</td>\n",
       "    </tr>\n",
       "    <tr>\n",
       "      <th>1056</th>\n",
       "      <td>Tesla China June data:\\nExport: 968\\nWholesale...</td>\n",
       "      <td>Tesla China June Sales 78,906 Wholesale 968 Ex...</td>\n",
       "      <td>ifbmyim</td>\n",
       "      <td>1657271922</td>\n",
       "      <td>2</td>\n",
       "    </tr>\n",
       "    <tr>\n",
       "      <th>1057</th>\n",
       "      <td>And that’s without the planned upgrades soon</td>\n",
       "      <td>Tesla China June Sales 78,906 Wholesale 968 Ex...</td>\n",
       "      <td>ifc50fe</td>\n",
       "      <td>1657284060</td>\n",
       "      <td>6</td>\n",
       "    </tr>\n",
       "    <tr>\n",
       "      <th>1058</th>\n",
       "      <td>It's not production. Monthly deliveries at the...</td>\n",
       "      <td>Tesla China June Sales 78,906 Wholesale 968 Ex...</td>\n",
       "      <td>ifc9fbf</td>\n",
       "      <td>1657286240</td>\n",
       "      <td>2</td>\n",
       "    </tr>\n",
       "    <tr>\n",
       "      <th>1059</th>\n",
       "      <td>Not production numbers. It could be May produc...</td>\n",
       "      <td>Tesla China June Sales 78,906 Wholesale 968 Ex...</td>\n",
       "      <td>ifcn7f3</td>\n",
       "      <td>1657292166</td>\n",
       "      <td>1</td>\n",
       "    </tr>\n",
       "  </tbody>\n",
       "</table>\n",
       "<p>1060 rows × 5 columns</p>\n",
       "</div>"
      ],
      "text/plain": [
       "                                                comment  \\\n",
       "0     Alright ! Italy here I come 😀. Finished workin...   \n",
       "1     Apparently /r/WallStreetBets is now an officia...   \n",
       "2     According to my local online retailer the chip...   \n",
       "3     Another week passes, another week where Elon s...   \n",
       "4     June China / MY dominating even vs much cheape...   \n",
       "...                                                 ...   \n",
       "1055                         At that rate, 948,000/year   \n",
       "1056  Tesla China June data:\\nExport: 968\\nWholesale...   \n",
       "1057       And that’s without the planned upgrades soon   \n",
       "1058  It's not production. Monthly deliveries at the...   \n",
       "1059  Not production numbers. It could be May produc...   \n",
       "\n",
       "                                                  title       id  created_at  \\\n",
       "0                          Daily Thread - July 09, 2022  ifgcamx  1657356780   \n",
       "1                          Daily Thread - July 09, 2022  ifipat3  1657401032   \n",
       "2                          Daily Thread - July 09, 2022  ifgee3x  1657358557   \n",
       "3                          Daily Thread - July 09, 2022  ifihmlo  1657397589   \n",
       "4                          Daily Thread - July 09, 2022  ifiv959  1657403757   \n",
       "...                                                 ...      ...         ...   \n",
       "1055  Tesla China June Sales 78,906 Wholesale 968 Ex...  ifc1gme  1657282152   \n",
       "1056  Tesla China June Sales 78,906 Wholesale 968 Ex...  ifbmyim  1657271922   \n",
       "1057  Tesla China June Sales 78,906 Wholesale 968 Ex...  ifc50fe  1657284060   \n",
       "1058  Tesla China June Sales 78,906 Wholesale 968 Ex...  ifc9fbf  1657286240   \n",
       "1059  Tesla China June Sales 78,906 Wholesale 968 Ex...  ifcn7f3  1657292166   \n",
       "\n",
       "      score  \n",
       "0        12  \n",
       "1        12  \n",
       "2        10  \n",
       "3        11  \n",
       "4         9  \n",
       "...     ...  \n",
       "1055      8  \n",
       "1056      2  \n",
       "1057      6  \n",
       "1058      2  \n",
       "1059      1  \n",
       "\n",
       "[1060 rows x 5 columns]"
      ]
     },
     "execution_count": 15,
     "metadata": {},
     "output_type": "execute_result"
    }
   ],
   "source": [
    "dfReddit"
   ]
  },
  {
   "cell_type": "code",
   "execution_count": 16,
   "metadata": {},
   "outputs": [],
   "source": [
    "# slice comments as bert supports only 512 tokens\n",
    "dfReddit['comment'] = dfReddit['comment'] .str.slice(start=0, stop=512, step=1) ### YOUR LINE OF CODE HERE"
   ]
  },
  {
   "cell_type": "markdown",
   "metadata": {},
   "source": [
    "### Step 5: Analyze the Comments! 🔍\n"
   ]
  },
  {
   "cell_type": "markdown",
   "metadata": {},
   "source": [
    "We'll be using the `FourthBrain/bert_model_reddit_tsla` model (found [here](https://huggingface.co/FourthBrain/bert_model_reddit_tsla)), which is based off of the `distilbert-base-uncased` (found [here](https://huggingface.co/distilbert-base-uncased))\n",
    "\n",
    "We'll use this model in a `sentiment-analysis` pipeline! (read all about that [here](https://huggingface.co/docs/transformers/main_classes/pipelines#transformers.pipeline.example))"
   ]
  },
  {
   "cell_type": "code",
   "execution_count": 17,
   "metadata": {},
   "outputs": [
    {
     "data": {
      "application/vnd.jupyter.widget-view+json": {
       "model_id": "cf628aa0d57e46ccb5796b6dfefcd4d9",
       "version_major": 2,
       "version_minor": 0
      },
      "text/plain": [
       "Downloading:   0%|          | 0.00/615 [00:00<?, ?B/s]"
      ]
     },
     "metadata": {},
     "output_type": "display_data"
    },
    {
     "data": {
      "application/vnd.jupyter.widget-view+json": {
       "model_id": "8481e1eb5a6e433a936e3b479c32d621",
       "version_major": 2,
       "version_minor": 0
      },
      "text/plain": [
       "Downloading:   0%|          | 0.00/255M [00:00<?, ?B/s]"
      ]
     },
     "metadata": {},
     "output_type": "display_data"
    },
    {
     "data": {
      "application/vnd.jupyter.widget-view+json": {
       "model_id": "0784ec89294e4256b1bc0380ea1ea3d4",
       "version_major": 2,
       "version_minor": 0
      },
      "text/plain": [
       "Downloading:   0%|          | 0.00/360 [00:00<?, ?B/s]"
      ]
     },
     "metadata": {},
     "output_type": "display_data"
    },
    {
     "data": {
      "application/vnd.jupyter.widget-view+json": {
       "model_id": "0f86b4bfe4054c2c8e1789cf01f57232",
       "version_major": 2,
       "version_minor": 0
      },
      "text/plain": [
       "Downloading:   0%|          | 0.00/226k [00:00<?, ?B/s]"
      ]
     },
     "metadata": {},
     "output_type": "display_data"
    },
    {
     "data": {
      "application/vnd.jupyter.widget-view+json": {
       "model_id": "793bdfc70c78494085aff83c7d0e86eb",
       "version_major": 2,
       "version_minor": 0
      },
      "text/plain": [
       "Downloading:   0%|          | 0.00/695k [00:00<?, ?B/s]"
      ]
     },
     "metadata": {},
     "output_type": "display_data"
    },
    {
     "data": {
      "application/vnd.jupyter.widget-view+json": {
       "model_id": "d9fbeb278c6b41c782999ea3bf83b404",
       "version_major": 2,
       "version_minor": 0
      },
      "text/plain": [
       "Downloading:   0%|          | 0.00/125 [00:00<?, ?B/s]"
      ]
     },
     "metadata": {},
     "output_type": "display_data"
    }
   ],
   "source": [
    "from transformers import pipeline\n",
    "\n",
    "# initialize the sentiment pipeline\n",
    "sentiment_pipeline = pipeline(\"sentiment-analysis\",model=\"FourthBrain/bert_model_reddit_tsla\")### YOUR LINE OF CODE HERE\n",
    "\n",
    "\n",
    "reddit_json = sentiment_pipeline(dfReddit[\"comment\"].tolist())\n",
    "\n",
    "# Retrieve labels and scores\n",
    "dfReddit['label'] = [reddit_json[i]['label'] for i in range(0, len(reddit_json))]\n",
    "dfReddit['score'] = [reddit_json[i]['score'] for i in range(0, len(reddit_json))]\n"
   ]
  },
  {
   "cell_type": "markdown",
   "metadata": {},
   "source": [
    "Next up, we'll want to perform the following steps\n",
    "\n",
    "1. Convert the `created_at` column to the appropriate format and name it `'timestamp'`\n",
    "2. Normalize the dates using the `NormalizeDates()` helper function"
   ]
  },
  {
   "cell_type": "code",
   "execution_count": 18,
   "metadata": {},
   "outputs": [],
   "source": [
    "import numpy as np\n",
    "from BotUtils import NormalizeDates\n",
    "\n",
    "# Rename timestamp column \n",
    "dfReddit = dfReddit.rename(columns={'created_at': 'timestamp'})\n",
    "dfReddit['timestamp'] = [datetime.fromtimestamp(dt) for dt in dfReddit['timestamp'] ]\n",
    "\n",
    "# Normalize Reddit sentiment data\n",
    "dfReddit = NormalizeDates(dfReddit, timestamp_col=\"timestamp\", interval=interval)\n",
    "\n",
    "# Create a continous time series \n",
    "dfTimeSeries = pd.DataFrame(dfReddit[\"timestamp\"])"
   ]
  },
  {
   "cell_type": "markdown",
   "metadata": {},
   "source": [
    "### Step 6: Get Stock Data 🚀\n",
    "\n",
    "Next up, we're going to get the stock data and create a DataFrame - as well as normalize the dates, just like we did with the subreddit comment timestamps"
   ]
  },
  {
   "cell_type": "code",
   "execution_count": 19,
   "metadata": {},
   "outputs": [],
   "source": [
    "from BotUtils import GetStockData\n",
    "\n",
    "# Get Stock Data\n",
    "j, dfStockData = GetStockData(settings.stock_data_api_key, symbol=symbol, start_date=start_date, end_date=end_date, interval='1day')\n",
    "dfStockData = dfStockData[(dfStockData['timestamp'] >= start_date) & (dfStockData['timestamp'] <= end_date)]\n",
    "\n",
    "# Normalize stock price data\n",
    "dfStockData = NormalizeDates(dfStockData, timestamp_col=\"timestamp\", interval=interval)"
   ]
  },
  {
   "cell_type": "markdown",
   "metadata": {},
   "source": [
    "### Step 7: Merge Sentiment and Stock Data 🧬\n",
    "\n",
    "We've got some processing to do! "
   ]
  },
  {
   "cell_type": "code",
   "execution_count": 20,
   "metadata": {},
   "outputs": [],
   "source": [
    "# Join time series df with stock price df and reddit df\n",
    "dfSentiment = dfTimeSeries.merge(dfStockData, how='left', on=\"timestamp\")\n",
    "dfSentiment = dfSentiment.merge(dfReddit, how='left', on=\"timestamp\")\n",
    "\n",
    "# Filter down to only the columns that we'll be using \n",
    "dfSentiment = dfSentiment[['timestamp', 'close', 'volume', 'label', 'score']]\n",
    "\n",
    "# Clean up NaNs for closing price, score, and labels\n",
    "dfSentiment['close'] = dfSentiment['close'].fillna(0)\n",
    "dfSentiment['score'] = dfSentiment['score'].fillna(0)\n",
    "dfSentiment['label'] = dfSentiment['label'].fillna('NEUTRAL')\n",
    "dfSentiment['label'] = ['NEGATIVE' for s in dfSentiment['label'] == 'LABEL_0']\n",
    "dfSentiment['label'] = ['POSITIVE' for s in dfSentiment['label'] == 'LABEL_1']\n",
    "\n",
    "# Convert close from string to float\n",
    "dfSentiment['close'] = dfSentiment['close'].astype('float')\n",
    "\n",
    "# Calculate weighted sentiment\n",
    "dfSentiment['sentiment'] = [1 if sentiment == \"POSITIVE\"  else 0 if sentiment == \"NEUTRAL\" else -1 for sentiment in dfSentiment['label'].tolist() ]\n",
    "dfSentiment['weighted_sentiment'] = dfSentiment['sentiment'] * dfSentiment['score']\n",
    "\n",
    "# Count only the POSITIVE and NEGATIVE labels (NEUTRAL is just a filler for missing dates)\n",
    "dfSentiment['counter'] = [1 if sentiment == \"POSITIVE\"  else 1 if sentiment == \"NEGATIVE\" else 0 for sentiment in dfSentiment['label'].tolist() ]\n",
    "\n",
    "# Group by to calculate Reddit post count and sentiment score (mean of weighted sentiment)\n",
    "dfSentiment = dfSentiment.groupby('timestamp') \\\n",
    "       .agg({'counter':'sum', 'close':'max', 'volume':max, 'weighted_sentiment':'mean'}) \\\n",
    "       .rename(columns={'sentiment':'count_posts', 'weighted_sentiment':'sentiment_score'}) \\\n",
    "       .reset_index()\n"
   ]
  },
  {
   "cell_type": "code",
   "execution_count": 21,
   "metadata": {},
   "outputs": [
    {
     "data": {
      "text/html": [
       "<div>\n",
       "<style scoped>\n",
       "    .dataframe tbody tr th:only-of-type {\n",
       "        vertical-align: middle;\n",
       "    }\n",
       "\n",
       "    .dataframe tbody tr th {\n",
       "        vertical-align: top;\n",
       "    }\n",
       "\n",
       "    .dataframe thead th {\n",
       "        text-align: right;\n",
       "    }\n",
       "</style>\n",
       "<table border=\"1\" class=\"dataframe\">\n",
       "  <thead>\n",
       "    <tr style=\"text-align: right;\">\n",
       "      <th></th>\n",
       "      <th>timestamp</th>\n",
       "      <th>counter</th>\n",
       "      <th>close</th>\n",
       "      <th>volume</th>\n",
       "      <th>sentiment_score</th>\n",
       "    </tr>\n",
       "  </thead>\n",
       "  <tbody>\n",
       "    <tr>\n",
       "      <th>0</th>\n",
       "      <td>2022-02-01</td>\n",
       "      <td>35131</td>\n",
       "      <td>932.00000</td>\n",
       "      <td>45107400</td>\n",
       "      <td>0.890362</td>\n",
       "    </tr>\n",
       "    <tr>\n",
       "      <th>1</th>\n",
       "      <td>2022-03-01</td>\n",
       "      <td>325703</td>\n",
       "      <td>1099.56995</td>\n",
       "      <td>40225400</td>\n",
       "      <td>0.870545</td>\n",
       "    </tr>\n",
       "    <tr>\n",
       "      <th>2</th>\n",
       "      <td>2022-04-01</td>\n",
       "      <td>208080</td>\n",
       "      <td>1145.44995</td>\n",
       "      <td>45377900</td>\n",
       "      <td>0.844497</td>\n",
       "    </tr>\n",
       "    <tr>\n",
       "      <th>3</th>\n",
       "      <td>2022-05-01</td>\n",
       "      <td>382725</td>\n",
       "      <td>952.62000</td>\n",
       "      <td>48324400</td>\n",
       "      <td>0.855616</td>\n",
       "    </tr>\n",
       "    <tr>\n",
       "      <th>4</th>\n",
       "      <td>2022-06-01</td>\n",
       "      <td>83349</td>\n",
       "      <td>775.00000</td>\n",
       "      <td>40931000</td>\n",
       "      <td>0.860026</td>\n",
       "    </tr>\n",
       "    <tr>\n",
       "      <th>5</th>\n",
       "      <td>2022-07-01</td>\n",
       "      <td>357604</td>\n",
       "      <td>0.00000</td>\n",
       "      <td>NaN</td>\n",
       "      <td>0.881586</td>\n",
       "    </tr>\n",
       "  </tbody>\n",
       "</table>\n",
       "</div>"
      ],
      "text/plain": [
       "   timestamp  counter       close    volume  sentiment_score\n",
       "0 2022-02-01    35131   932.00000  45107400         0.890362\n",
       "1 2022-03-01   325703  1099.56995  40225400         0.870545\n",
       "2 2022-04-01   208080  1145.44995  45377900         0.844497\n",
       "3 2022-05-01   382725   952.62000  48324400         0.855616\n",
       "4 2022-06-01    83349   775.00000  40931000         0.860026\n",
       "5 2022-07-01   357604     0.00000       NaN         0.881586"
      ]
     },
     "execution_count": 21,
     "metadata": {},
     "output_type": "execute_result"
    }
   ],
   "source": [
    "dfSentiment"
   ]
  },
  {
   "cell_type": "markdown",
   "metadata": {},
   "source": [
    "### Step 8: Final Computation 🖥️\n",
    "\n",
    "In this last step, we're going to finish up some calculations:\n",
    "\n",
    "1. Create the lags and percentage change for the closing stock price. \n",
    "2. Calculate the 3 month rolling average."
   ]
  },
  {
   "cell_type": "code",
   "execution_count": 22,
   "metadata": {},
   "outputs": [
    {
     "data": {
      "text/html": [
       "<div>\n",
       "<style scoped>\n",
       "    .dataframe tbody tr th:only-of-type {\n",
       "        vertical-align: middle;\n",
       "    }\n",
       "\n",
       "    .dataframe tbody tr th {\n",
       "        vertical-align: top;\n",
       "    }\n",
       "\n",
       "    .dataframe thead th {\n",
       "        text-align: right;\n",
       "    }\n",
       "</style>\n",
       "<table border=\"1\" class=\"dataframe\">\n",
       "  <thead>\n",
       "    <tr style=\"text-align: right;\">\n",
       "      <th></th>\n",
       "      <th>timestamp</th>\n",
       "      <th>counter</th>\n",
       "      <th>close</th>\n",
       "      <th>volume</th>\n",
       "      <th>sentiment_score</th>\n",
       "      <th>close_lag1</th>\n",
       "      <th>perc_change_close</th>\n",
       "      <th>sentiment_score_lag1</th>\n",
       "      <th>perc_change_sentiment</th>\n",
       "      <th>sentiment_SMA3mo</th>\n",
       "    </tr>\n",
       "  </thead>\n",
       "  <tbody>\n",
       "    <tr>\n",
       "      <th>1</th>\n",
       "      <td>2022-03-01</td>\n",
       "      <td>325703</td>\n",
       "      <td>1099.56995</td>\n",
       "      <td>40225400</td>\n",
       "      <td>0.870545</td>\n",
       "      <td>932.00000</td>\n",
       "      <td>0.179796</td>\n",
       "      <td>0.890362</td>\n",
       "      <td>-0.022256</td>\n",
       "      <td>0.000000</td>\n",
       "    </tr>\n",
       "    <tr>\n",
       "      <th>2</th>\n",
       "      <td>2022-04-01</td>\n",
       "      <td>208080</td>\n",
       "      <td>1145.44995</td>\n",
       "      <td>45377900</td>\n",
       "      <td>0.844497</td>\n",
       "      <td>1099.56995</td>\n",
       "      <td>0.041725</td>\n",
       "      <td>0.870545</td>\n",
       "      <td>-0.029922</td>\n",
       "      <td>0.868468</td>\n",
       "    </tr>\n",
       "    <tr>\n",
       "      <th>3</th>\n",
       "      <td>2022-05-01</td>\n",
       "      <td>382725</td>\n",
       "      <td>952.62000</td>\n",
       "      <td>48324400</td>\n",
       "      <td>0.855616</td>\n",
       "      <td>1145.44995</td>\n",
       "      <td>-0.168344</td>\n",
       "      <td>0.844497</td>\n",
       "      <td>0.013167</td>\n",
       "      <td>0.856886</td>\n",
       "    </tr>\n",
       "    <tr>\n",
       "      <th>4</th>\n",
       "      <td>2022-06-01</td>\n",
       "      <td>83349</td>\n",
       "      <td>775.00000</td>\n",
       "      <td>40931000</td>\n",
       "      <td>0.860026</td>\n",
       "      <td>952.62000</td>\n",
       "      <td>-0.186454</td>\n",
       "      <td>0.855616</td>\n",
       "      <td>0.005154</td>\n",
       "      <td>0.853380</td>\n",
       "    </tr>\n",
       "    <tr>\n",
       "      <th>5</th>\n",
       "      <td>2022-07-01</td>\n",
       "      <td>357604</td>\n",
       "      <td>0.00000</td>\n",
       "      <td>NaN</td>\n",
       "      <td>0.881586</td>\n",
       "      <td>775.00000</td>\n",
       "      <td>-1.000000</td>\n",
       "      <td>0.860026</td>\n",
       "      <td>0.025069</td>\n",
       "      <td>0.865743</td>\n",
       "    </tr>\n",
       "  </tbody>\n",
       "</table>\n",
       "</div>"
      ],
      "text/plain": [
       "   timestamp  counter       close    volume  sentiment_score  close_lag1  \\\n",
       "1 2022-03-01   325703  1099.56995  40225400         0.870545   932.00000   \n",
       "2 2022-04-01   208080  1145.44995  45377900         0.844497  1099.56995   \n",
       "3 2022-05-01   382725   952.62000  48324400         0.855616  1145.44995   \n",
       "4 2022-06-01    83349   775.00000  40931000         0.860026   952.62000   \n",
       "5 2022-07-01   357604     0.00000       NaN         0.881586   775.00000   \n",
       "\n",
       "   perc_change_close  sentiment_score_lag1  perc_change_sentiment  \\\n",
       "1           0.179796              0.890362              -0.022256   \n",
       "2           0.041725              0.870545              -0.029922   \n",
       "3          -0.168344              0.844497               0.013167   \n",
       "4          -0.186454              0.855616               0.005154   \n",
       "5          -1.000000              0.860026               0.025069   \n",
       "\n",
       "   sentiment_SMA3mo  \n",
       "1          0.000000  \n",
       "2          0.868468  \n",
       "3          0.856886  \n",
       "4          0.853380  \n",
       "5          0.865743  "
      ]
     },
     "execution_count": 22,
     "metadata": {},
     "output_type": "execute_result"
    }
   ],
   "source": [
    "# Create lags and %change for closing stock price\n",
    "dfSentiment['close_lag1'] = dfSentiment['close'].shift(1)\n",
    "dfSentiment['close_lag1'] = dfSentiment['close_lag1'].fillna(0)\n",
    "dfSentiment['perc_change_close'] = (dfSentiment['close'] - dfSentiment['close_lag1']) / dfSentiment['close_lag1']\n",
    "dfSentiment['perc_change_close'] = dfSentiment['perc_change_close'].fillna(0)\n",
    "\n",
    "dfSentiment['sentiment_score_lag1'] = dfSentiment['sentiment_score'].shift(1)\n",
    "dfSentiment['sentiment_score_lag1'] = dfSentiment['sentiment_score_lag1'].fillna(0)\n",
    "dfSentiment['perc_change_sentiment'] = (dfSentiment['sentiment_score'] - dfSentiment['sentiment_score_lag1']) / dfSentiment['sentiment_score_lag1']\n",
    "\n",
    "# Calculate 3 month rolling average\n",
    "dfSentiment['sentiment_SMA3mo'] = dfSentiment.sentiment_score.rolling(3).mean()\n",
    "dfSentiment['sentiment_SMA3mo'] = dfSentiment['sentiment_SMA3mo'].fillna(0)\n",
    "\n",
    "dfSentiment = dfSentiment[1:]\n",
    "dfSentiment"
   ]
  },
  {
   "cell_type": "markdown",
   "metadata": {},
   "source": [
    "Let's save our work in a `.csv` for use later in the Streamlit app!"
   ]
  },
  {
   "cell_type": "code",
   "execution_count": 23,
   "metadata": {},
   "outputs": [],
   "source": [
    "# Save DataFrame locally (or somewhere else) for use in Streamlit app\n",
    "dfSentiment.to_csv('./sentiment_data.csv')"
   ]
  },
  {
   "cell_type": "markdown",
   "metadata": {},
   "source": [
    "### Step 8a: Plotting our Results! 📊\n",
    "\n",
    "Now, after all that, let's plot our results and see how they shape up!"
   ]
  },
  {
   "cell_type": "code",
   "execution_count": 24,
   "metadata": {},
   "outputs": [
    {
     "data": {
      "image/png": "[encoded data removed]",
      "text/plain": [
       "<Figure size 432x288 with 2 Axes>"
      ]
     },
     "metadata": {
      "needs_background": "light"
     },
     "output_type": "display_data"
    }
   ],
   "source": [
    "import matplotlib.pyplot as plt\n",
    "\n",
    "ax1 = dfSentiment.plot(kind = 'line', x = 'timestamp',\n",
    "                  y = 'sentiment_score', color = 'Red',\n",
    "                  linewidth = 3)\n",
    "\n",
    "ax2 = dfSentiment.plot(kind = 'line', x = 'timestamp',\n",
    "                   y = 'close', secondary_y = True,\n",
    "                   color = 'Blue',  linewidth = 3,\n",
    "                   ax = ax1) \n",
    "\n",
    "#labeling x and y-axis\n",
    "ax1.set_xlabel('Timestamp', color = 'black')\n",
    "ax1.set_ylabel('Sentiment Score', color = \"r\")\n",
    "ax2.set_ylabel('% Change Stock Price', color = 'b')\n",
    " \n",
    "#defining display layout\n",
    "plt.tight_layout()\n",
    " \n",
    "#show plot\n",
    "plt.show()"
   ]
  }
 ],
 "metadata": {
  "kernelspec": {
   "display_name": "Python 3.9.13 ('tsla_bot')",
   "language": "python",
   "name": "python3"
  },
  "language_info": {
   "codemirror_mode": {
    "name": "ipython",
    "version": 3
   },
   "file_extension": ".py",
   "mimetype": "text/x-python",
   "name": "python",
   "nbconvert_exporter": "python",
   "pygments_lexer": "ipython3",
   "version": "3.9.13"
  },
  "vscode": {
   "interpreter": {
    "hash": "07ed08a2295ebca1fa31a874e606d0c1c94bfd3960fb50e26e4be05fa6d0b261"
   }
  }
 },
 "nbformat": 4,
 "nbformat_minor": 2
}
